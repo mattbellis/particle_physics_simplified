{
  "nbformat": 4,
  "nbformat_minor": 0,
  "metadata": {
    "colab": {
      "name": "DEMO_ppp_h5hep.ipynb",
      "version": "0.3.2",
      "provenance": [],
      "collapsed_sections": []
    },
    "kernelspec": {
      "name": "python3",
      "display_name": "Python 3"
    }
  },
  "cells": [
    {
      "cell_type": "markdown",
      "metadata": {
        "id": "view-in-github",
        "colab_type": "text"
      },
      "source": [
        "[View in Colaboratory](https://colab.research.google.com/github/mattbellis/particle_physics_simplified/blob/master/DEMO_ppp_h5hep.ipynb)"
      ]
    },
    {
      "metadata": {
        "id": "f_iDG9PBz7qH",
        "colab_type": "code",
        "colab": {
          "base_uri": "https://localhost:8080/",
          "height": 225
        },
        "outputId": "fc8cc402-3489-4791-a6b8-3f1bb8423375"
      },
      "cell_type": "code",
      "source": [
        "import numpy as np\n",
        "import matplotlib.pylab as plt\n",
        "\n",
        "# Check to see if the git repo is there. If not, then clone it. This is a test edit. \n",
        "!if [ ! -e h5hep ]; then git  clone https://github.com/mattbellis/h5hep.git; fi\n",
        "\n",
        "# Pull the latest changes  \n",
        "!cd h5hep; git pull\n",
        "\n",
        "import sys\n",
        "sys.path.append(\"./h5hep\")\n",
        "import h5hep\n",
        "\n",
        "# This is for particle physics simplified\n",
        "# Check to see if the git repo is there. If not, then clone it\n",
        "!if [ ! -e particle_physics_simplified ]; then git  clone https://github.com/mattbellis/particle_physics_simplified.git; fi\n",
        "\n",
        "# Pull the latest changes  \n",
        "!cd particle_physics_simplified; git pull\n",
        "sys.path.append(\"./particle_physics_simplified/tools\")\n",
        "import hep_tools as hep\n"
      ],
      "execution_count": 1,
      "outputs": [
        {
          "output_type": "stream",
          "text": [
            "Cloning into 'h5hep'...\n",
            "remote: Counting objects: 359, done.\u001b[K\n",
            "remote: Total 359 (delta 0), reused 0 (delta 0), pack-reused 359\u001b[K\n",
            "Receiving objects: 100% (359/359), 7.04 MiB | 41.64 MiB/s, done.\n",
            "Resolving deltas: 100% (186/186), done.\n",
            "Already up-to-date.\n",
            "Cloning into 'particle_physics_simplified'...\n",
            "remote: Counting objects: 73, done.\u001b[K\n",
            "remote: Compressing objects: 100% (63/63), done.\u001b[K\n",
            "remote: Total 73 (delta 40), reused 23 (delta 9), pack-reused 0\u001b[K\n",
            "Unpacking objects: 100% (73/73), done.\n",
            "Already up-to-date.\n"
          ],
          "name": "stdout"
        }
      ]
    },
    {
      "metadata": {
        "id": "rpN6pvoR0JiX",
        "colab_type": "code",
        "colab": {
          "base_uri": "https://localhost:8080/",
          "height": 399
        },
        "outputId": "1794100f-852e-488b-a0ef-0091ff085e4f"
      },
      "cell_type": "code",
      "source": [
        "# Download the data\n",
        "!mkdir -p data\n",
        "!wget -O data/mc_ww.hdf5 'http://www.sos.siena.edu/~mbellis/ppp_data/mc_ww.hdf5?raw=true'\n",
        "\n",
        "# This one might take 10 seconds or so. It's a bigger file.\n",
        "!wget -O data/mc_ttbar.hdf5 'http://www.sos.siena.edu/~mbellis/ppp_data/mc_ttbar.hdf5?raw=true'"
      ],
      "execution_count": 2,
      "outputs": [
        {
          "output_type": "stream",
          "text": [
            "--2018-06-06 15:50:34--  http://www.sos.siena.edu/~mbellis/ppp_data/mc_ww.hdf5?raw=true\n",
            "Resolving www.sos.siena.edu (www.sos.siena.edu)... 66.194.178.32\n",
            "Connecting to www.sos.siena.edu (www.sos.siena.edu)|66.194.178.32|:80... connected.\n",
            "HTTP request sent, awaiting response... 200 OK\n",
            "Length: 268544 (262K) [text/plain]\n",
            "Saving to: ‘data/mc_ww.hdf5’\n",
            "\n",
            "data/mc_ww.hdf5     100%[===================>] 262.25K   402KB/s    in 0.7s    \n",
            "\n",
            "2018-06-06 15:50:35 (402 KB/s) - ‘data/mc_ww.hdf5’ saved [268544/268544]\n",
            "\n",
            "--2018-06-06 15:50:36--  http://www.sos.siena.edu/~mbellis/ppp_data/mc_ttbar.hdf5?raw=true\n",
            "Resolving www.sos.siena.edu (www.sos.siena.edu)... 66.194.178.32\n",
            "Connecting to www.sos.siena.edu (www.sos.siena.edu)|66.194.178.32|:80... connected.\n",
            "HTTP request sent, awaiting response... 200 OK\n",
            "Length: 47106586 (45M) [text/plain]\n",
            "Saving to: ‘data/mc_ttbar.hdf5’\n",
            "\n",
            "data/mc_ttbar.hdf5  100%[===================>]  44.92M  5.51MB/s    in 13s     \n",
            "\n",
            "2018-06-06 15:50:49 (3.53 MB/s) - ‘data/mc_ttbar.hdf5’ saved [47106586/47106586]\n",
            "\n"
          ],
          "name": "stdout"
        }
      ]
    },
    {
      "metadata": {
        "id": "wPAb9iMQsR85",
        "colab_type": "text"
      },
      "cell_type": "markdown",
      "source": [
        "# An example with a more \"real\" approach to interfacing with the data"
      ]
    },
    {
      "metadata": {
        "id": "NDveBO2M0vOx",
        "colab_type": "code",
        "colab": {
          "base_uri": "https://localhost:8080/",
          "height": 69
        },
        "outputId": "2c481eac-8fa2-4eaf-8676-32db2f532c40"
      },
      "cell_type": "code",
      "source": [
        "data,event = h5hep.hd5events('data/mc_ww.hdf5') # For example\n",
        "# or\n",
        "#data,event = h5hep.hd5events('data/mc_ttbar.hdf5') # For example, if you want to run over a bigger file"
      ],
      "execution_count": 4,
      "outputs": [
        {
          "output_type": "stream",
          "text": [
            "Building the indices...\n",
            "Built the indices!\n",
            "Data is read in and input file is closed.\n"
          ],
          "name": "stdout"
        }
      ]
    },
    {
      "metadata": {
        "id": "1j_Mm47F1ZcN",
        "colab_type": "code",
        "colab": {
          "base_uri": "https://localhost:8080/",
          "height": 520
        },
        "outputId": "a09e34cd-91f5-4e11-853c-8acf0770e2e1"
      },
      "cell_type": "code",
      "source": [
        "print()\n",
        "# Print the keys to see what is in the dictionary\n",
        "for key in event.keys():\n",
        "  print(key)\n",
        "  \n",
        "print()\n",
        "\n",
        "print(data['nevents'])"
      ],
      "execution_count": 5,
      "outputs": [
        {
          "output_type": "stream",
          "text": [
            "\n",
            "METx\n",
            "METy\n",
            "_SINGLETON_/INDEX\n",
            "electrons/e\n",
            "electrons/nelectrons\n",
            "electrons/px\n",
            "electrons/py\n",
            "electrons/pz\n",
            "electrons/q\n",
            "jets/btag\n",
            "jets/e\n",
            "jets/njets\n",
            "jets/px\n",
            "jets/py\n",
            "jets/pz\n",
            "muons/e\n",
            "muons/nmuons\n",
            "muons/px\n",
            "muons/py\n",
            "muons/pz\n",
            "muons/q\n",
            "photons/e\n",
            "photons/nphotons\n",
            "photons/px\n",
            "photons/py\n",
            "photons/pz\n",
            "\n",
            "4580\n"
          ],
          "name": "stdout"
        }
      ]
    },
    {
      "metadata": {
        "id": "PgZMyd3H3QEO",
        "colab_type": "text"
      },
      "cell_type": "markdown",
      "source": [
        "# Make a histogram of the jet energies"
      ]
    },
    {
      "metadata": {
        "id": "eBydn6NF10SX",
        "colab_type": "code",
        "colab": {
          "base_uri": "https://localhost:8080/",
          "height": 35
        },
        "outputId": "7b506ac1-e350-45d0-b199-2c954865075c"
      },
      "cell_type": "code",
      "source": [
        "nevents = data['nevents']\n",
        "\n",
        "energies = []\n",
        "\n",
        "for i in range(nevents):\n",
        "  \n",
        "  if i%10000==0:\n",
        "    print(\"On \",i,\" of \",nevents)\n",
        "  \n",
        "  h5hep.unpack(event,data,n=i)\n",
        "\n",
        "  energy = event['jets/e']\n",
        "  \n",
        "  # This returns a numpy.array of the jet energies. \n",
        "  # To easily append them to your list\n",
        "  energies += energy.tolist()\n",
        "  \n",
        "  # DO STUFF HERE IF YOU LIKE!"
      ],
      "execution_count": 7,
      "outputs": [
        {
          "output_type": "stream",
          "text": [
            "On  0  of  4580\n"
          ],
          "name": "stdout"
        }
      ]
    },
    {
      "metadata": {
        "id": "yRrhGP862Rmi",
        "colab_type": "code",
        "colab": {
          "base_uri": "https://localhost:8080/",
          "height": 347
        },
        "outputId": "2155a4e9-5e30-4929-ea52-031c46c0bcf6"
      },
      "cell_type": "code",
      "source": [
        "# Make a plot!\n",
        "plt.figure()\n",
        "plt.hist(energies,bins=50,range=(0,500));"
      ],
      "execution_count": 8,
      "outputs": [
        {
          "output_type": "display_data",
          "data": {
            "image/png": "[encoded data removed]",
            "text/plain": [
              "<matplotlib.figure.Figure at 0x7fe9f8d94f60>"
            ]
          },
          "metadata": {
            "tags": []
          }
        }
      ]
    },
    {
      "metadata": {
        "id": "FinTtv-8sZng",
        "colab_type": "text"
      },
      "cell_type": "markdown",
      "source": [
        "# An example with the simplified interface...version 1"
      ]
    },
    {
      "metadata": {
        "id": "Ojpq5kFazMCo",
        "colab_type": "code",
        "colab": {
          "base_uri": "https://localhost:8080/",
          "height": 139
        },
        "outputId": "f39a4f2a-f64a-4e4e-cb46-57f7b4f85770"
      },
      "cell_type": "code",
      "source": [
        "infile = 'data/mc_ttbar.hdf5'\n",
        "\n",
        "collisions = hep.get_collisions(infile,experiment='CMS',verbose=False)\n",
        "print(len(collisions), \" collisions\")"
      ],
      "execution_count": 7,
      "outputs": [
        {
          "output_type": "stream",
          "text": [
            "\n",
            "Building a simplified interface to the events...\n",
            "\n",
            "Building the indices...\n",
            "Built the indices!\n",
            "Data is read in and input file is closed.\n",
            "383167  collisions\n"
          ],
          "name": "stdout"
        }
      ]
    },
    {
      "metadata": {
        "id": "_kDAN9KD02y5",
        "colab_type": "code",
        "colab": {
          "base_uri": "https://localhost:8080/",
          "height": 693
        },
        "outputId": "d267e0bc-3190-4e3f-91af-e329c711d577"
      },
      "cell_type": "code",
      "source": [
        "energies = []\n",
        "for entry, collision in enumerate(collisions):\n",
        "  \n",
        "    if entry%10000 == 0:\n",
        "        print(entry)\n",
        "\n",
        "    jets = collision['jets']\n",
        "\n",
        "    for jet in jets:\n",
        "        e = jet['e']\n",
        "        #print(e)\n",
        "\n",
        "        energies.append(e)"
      ],
      "execution_count": 8,
      "outputs": [
        {
          "output_type": "stream",
          "text": [
            "0\n",
            "10000\n",
            "20000\n",
            "30000\n",
            "40000\n",
            "50000\n",
            "60000\n",
            "70000\n",
            "80000\n",
            "90000\n",
            "100000\n",
            "110000\n",
            "120000\n",
            "130000\n",
            "140000\n",
            "150000\n",
            "160000\n",
            "170000\n",
            "180000\n",
            "190000\n",
            "200000\n",
            "210000\n",
            "220000\n",
            "230000\n",
            "240000\n",
            "250000\n",
            "260000\n",
            "270000\n",
            "280000\n",
            "290000\n",
            "300000\n",
            "310000\n",
            "320000\n",
            "330000\n",
            "340000\n",
            "350000\n",
            "360000\n",
            "370000\n",
            "380000\n"
          ],
          "name": "stdout"
        }
      ]
    },
    {
      "metadata": {
        "id": "hnfVH4ye2efT",
        "colab_type": "code",
        "colab": {
          "base_uri": "https://localhost:8080/",
          "height": 815
        },
        "outputId": "f5984490-b2c4-40e5-df5b-3ff336b05356"
      },
      "cell_type": "code",
      "source": [
        "\n",
        "\n",
        "#infile = 'data/mc_ww.hdf5'\n",
        "# or\n",
        "infile = 'data/mc_ttbar.hdf5'\n",
        "\n",
        "collisions = hep.get_collisions(infile,experiment='CMS',verbose=False)\n",
        "print(len(collisions), \" collisions\")\n",
        "\n",
        "energies = []\n",
        "for entry, collision in enumerate(collisions):\n",
        "  \n",
        "    if entry%10000 == 0:\n",
        "        print(entry)\n",
        "\n",
        "    jets = collision['jets']\n",
        "\n",
        "    for jet in jets:\n",
        "        e = jet['e']\n",
        "        #print(e)\n",
        "\n",
        "        energies.append(e)\n",
        "\n",
        "\n"
      ],
      "execution_count": 5,
      "outputs": [
        {
          "output_type": "stream",
          "text": [
            "\n",
            "Building a simplified interface to the events...\n",
            "\n",
            "Building the indices...\n",
            "Built the indices!\n",
            "Data is read in and input file is closed.\n",
            "383167  collisions\n",
            "0\n",
            "10000\n",
            "20000\n",
            "30000\n",
            "40000\n",
            "50000\n",
            "60000\n",
            "70000\n",
            "80000\n",
            "90000\n",
            "100000\n",
            "110000\n",
            "120000\n",
            "130000\n",
            "140000\n",
            "150000\n",
            "160000\n",
            "170000\n",
            "180000\n",
            "190000\n",
            "200000\n",
            "210000\n",
            "220000\n",
            "230000\n",
            "240000\n",
            "250000\n",
            "260000\n",
            "270000\n",
            "280000\n",
            "290000\n",
            "300000\n",
            "310000\n",
            "320000\n",
            "330000\n",
            "340000\n",
            "350000\n",
            "360000\n",
            "370000\n",
            "380000\n"
          ],
          "name": "stdout"
        }
      ]
    },
    {
      "metadata": {
        "id": "al8jJBFftQFV",
        "colab_type": "code",
        "colab": {
          "base_uri": "https://localhost:8080/",
          "height": 347
        },
        "outputId": "86686ab2-d5ea-42d7-e83f-766b1d2a32a8"
      },
      "cell_type": "code",
      "source": [
        "plt.figure()\n",
        "plt.hist(energies,bins=50,range=(0,500));"
      ],
      "execution_count": 11,
      "outputs": [
        {
          "output_type": "display_data",
          "data": {
            "image/png": "[encoded data removed]",
            "text/plain": [
              "<matplotlib.figure.Figure at 0x7fe9f8d06048>"
            ]
          },
          "metadata": {
            "tags": []
          }
        }
      ]
    },
    {
      "metadata": {
        "id": "J-fr8ZdG-G4a",
        "colab_type": "text"
      },
      "cell_type": "markdown",
      "source": [
        "# BaBar data"
      ]
    },
    {
      "metadata": {
        "id": "x41-DDzPDqdQ",
        "colab_type": "code",
        "colab": {}
      },
      "cell_type": "code",
      "source": [
        "###############################################################################\n",
        "def invmass(p4s):\n",
        "  etot = 0\n",
        "  pxtot = 0\n",
        "  pytot = 0\n",
        "  pztot = 0\n",
        "  for p4 in p4s:\n",
        "    etot += p4['e']\n",
        "    pxtot += p4['px']\n",
        "    pytot += p4['py']\n",
        "    pztot += p4['pz']\n",
        "  m2 = etot*etot - (pxtot*pxtot + pytot*pytot + pztot*pztot)\n",
        "  if m2>=0:\n",
        "    return np.sqrt(m2)\n",
        "  else:\n",
        "    return np.sqrt(-m2)\n",
        "###############################################################################\n",
        "    "
      ],
      "execution_count": 0,
      "outputs": []
    },
    {
      "metadata": {
        "id": "7e-Q548puMSZ",
        "colab_type": "code",
        "colab": {
          "base_uri": "https://localhost:8080/",
          "height": 208
        },
        "outputId": "fcb64c2e-8082-48ab-fa80-a43c835d9f60"
      },
      "cell_type": "code",
      "source": [
        "# This one might take 10 seconds or so. It's a bigger file.\n",
        "!wget -O data/basicPID_R24-AllEvents-Run1-OnPeak-R24-744.hdf5 'http://www.sos.siena.edu/~mbellis/ppp_data/basicPID_R24-AllEvents-Run1-OnPeak-R24-744.hdf5?raw=true'"
      ],
      "execution_count": 13,
      "outputs": [
        {
          "output_type": "stream",
          "text": [
            "--2018-06-05 15:22:51--  http://www.sos.siena.edu/~mbellis/ppp_data/basicPID_R24-AllEvents-Run1-OnPeak-R24-744.hdf5?raw=true\r\n",
            "Resolving www.sos.siena.edu (www.sos.siena.edu)... 66.194.178.32\n",
            "Connecting to www.sos.siena.edu (www.sos.siena.edu)|66.194.178.32|:80... connected.\n",
            "HTTP request sent, awaiting response... 200 OK\n",
            "Length: 11765213 (11M) [text/plain]\n",
            "Saving to: ‘data/basicPID_R24-AllEvents-Run1-OnPeak-R24-744.hdf5’\n",
            "\n",
            "data/basicPID_R24-A 100%[===================>]  11.22M  2.76MB/s    in 5.1s    \n",
            "\n",
            "2018-06-05 15:22:57 (2.22 MB/s) - ‘data/basicPID_R24-AllEvents-Run1-OnPeak-R24-744.hdf5’ saved [11765213/11765213]\n",
            "\n"
          ],
          "name": "stdout"
        }
      ]
    },
    {
      "metadata": {
        "id": "-kFaNL5d-QMZ",
        "colab_type": "code",
        "colab": {
          "base_uri": "https://localhost:8080/",
          "height": 312
        },
        "outputId": "ce79c331-4d38-4041-c5dc-020d79156512"
      },
      "cell_type": "code",
      "source": [
        "infile = 'data/basicPID_R24-AllEvents-Run1-OnPeak-R24-744.hdf5'\n",
        "\n",
        "collisions = hep.get_collisions(infile,experiment='BaBar',verbose=False)\n",
        "print(len(collisions), \" collisions\")\n",
        "\n",
        "    \n",
        "energies = []\n",
        "masses = []\n",
        "for entry, collision in enumerate(collisions):\n",
        "      \n",
        "    if entry%10000 == 0:\n",
        "        print(entry)\n",
        "\n",
        "    muons = collision['muons']\n",
        "    kaons = collision['kaons']\n",
        "\n",
        "    nmuons = len(muons)\n",
        "    for i in range(0,nmuons-1):\n",
        "      for j in range(i+1,nmuons):\n",
        "        \n",
        "        if muons[i]['q']*muons[j]['q'] < 0:\n",
        "          mass = invmass([muons[i],muons[j]])\n",
        "          masses.append(mass)\n",
        "        #print(e)\n",
        "\n",
        "        #energies.append(e)\n",
        "\n"
      ],
      "execution_count": 14,
      "outputs": [
        {
          "output_type": "stream",
          "text": [
            "\n",
            "Building a simplified interface to the events...\n",
            "\n",
            "Building the indices...\n",
            "Built the indices!\n",
            "Data is read in and input file is closed.\n",
            "92096  collisions\n",
            "0\n",
            "10000\n",
            "20000\n",
            "30000\n",
            "40000\n",
            "50000\n",
            "60000\n",
            "70000\n",
            "80000\n",
            "90000\n"
          ],
          "name": "stdout"
        }
      ]
    },
    {
      "metadata": {
        "id": "cmwmehK1-e7j",
        "colab_type": "code",
        "colab": {
          "base_uri": "https://localhost:8080/",
          "height": 347
        },
        "outputId": "c5845d2e-396d-4bcc-f210-468d646ede87"
      },
      "cell_type": "code",
      "source": [
        "plt.figure()\n",
        "plt.hist(masses,bins=50,range=(2,5));"
      ],
      "execution_count": 15,
      "outputs": [
        {
          "output_type": "display_data",
          "data": {
            "image/png": "[encoded data removed]",
            "text/plain": [
              "<matplotlib.figure.Figure at 0x7fe9a7f9c860>"
            ]
          },
          "metadata": {
            "tags": []
          }
        }
      ]
    },
    {
      "metadata": {
        "id": "krCpU7O5-kL0",
        "colab_type": "code",
        "colab": {
          "base_uri": "https://localhost:8080/",
          "height": 312
        },
        "outputId": "5315810b-697b-4659-81bc-2202770305c6"
      },
      "cell_type": "code",
      "source": [
        "infile = 'data/basicPID_R24-AllEvents-Run1-OnPeak-R24-744.hdf5'\n",
        "\n",
        "collisions = hep.get_collisions(infile,experiment='BaBar',verbose=False)\n",
        "print(len(collisions), \" collisions\")\n",
        "\n",
        "energies = []\n",
        "masses = []\n",
        "for entry, collision in enumerate(collisions):\n",
        "      \n",
        "    if entry%10000 == 0:\n",
        "        print(entry)\n",
        "\n",
        "    pions = collision['pions']\n",
        "    kaons = collision['kaons']\n",
        "\n",
        "    npions = len(pions)\n",
        "    nkaons = len(kaons)\n",
        "    \n",
        "    for k in range(0,nkaons):\n",
        "      for i in range(0,npions-1):\n",
        "        for j in range(i+1,npions):\n",
        "\n",
        "          if pions[i]['q']*pions[j]['q'] > 0 and kaons[k]['q']*pions[i]['q'] < 0:\n",
        "            mass = invmass([pions[i],pions[j],kaons[k]])\n",
        "            masses.append(mass)\n",
        "\n"
      ],
      "execution_count": 16,
      "outputs": [
        {
          "output_type": "stream",
          "text": [
            "\n",
            "Building a simplified interface to the events...\n",
            "\n",
            "Building the indices...\n",
            "Built the indices!\n",
            "Data is read in and input file is closed.\n",
            "92096  collisions\n",
            "0\n",
            "10000\n",
            "20000\n",
            "30000\n",
            "40000\n",
            "50000\n",
            "60000\n",
            "70000\n",
            "80000\n",
            "90000\n"
          ],
          "name": "stdout"
        }
      ]
    },
    {
      "metadata": {
        "id": "omlQy6IdEMEz",
        "colab_type": "code",
        "colab": {
          "base_uri": "https://localhost:8080/",
          "height": 347
        },
        "outputId": "66beabb9-2c63-4852-e9f2-186218df304e"
      },
      "cell_type": "code",
      "source": [
        "plt.figure()\n",
        "plt.hist(masses,bins=50,range=(1.7,2.0));"
      ],
      "execution_count": 17,
      "outputs": [
        {
          "output_type": "display_data",
          "data": {
            "image/png": "[encoded data removed]",
            "text/plain": [
              "<matplotlib.figure.Figure at 0x7fe9f6ca3588>"
            ]
          },
          "metadata": {
            "tags": []
          }
        }
      ]
    },
    {
      "metadata": {
        "id": "odiDhlT4uR8q",
        "colab_type": "text"
      },
      "cell_type": "markdown",
      "source": [
        "# An example with the simplified interface...version 2"
      ]
    },
    {
      "metadata": {
        "id": "HmOulPo1Eusf",
        "colab_type": "code",
        "colab": {
          "base_uri": "https://localhost:8080/",
          "height": 139
        },
        "outputId": "4526e792-b726-43aa-a847-5e190f9eb5a7"
      },
      "cell_type": "code",
      "source": [
        "infile = 'data/mc_ttbar.hdf5' # Larger file\n",
        "#infile = 'data/mc_ww.hdf5' # Smaller file\n",
        "\n",
        "alldata = hep.get_all_data(infile,verbose=False)\n",
        "\n",
        "nentries = hep.get_number_of_entries(alldata)\n",
        "\n",
        "print(\"# entries: \",nentries)\n"
      ],
      "execution_count": 9,
      "outputs": [
        {
          "output_type": "stream",
          "text": [
            "\n",
            "Loading in the data...\n",
            "\n",
            "Building the indices...\n",
            "Built the indices!\n",
            "Data is read in and input file is closed.\n",
            "# entries:  383167\n"
          ],
          "name": "stdout"
        }
      ]
    },
    {
      "metadata": {
        "id": "XMC2CzfSuxwk",
        "colab_type": "code",
        "colab": {
          "base_uri": "https://localhost:8080/",
          "height": 693
        },
        "outputId": "6bddc639-3ea7-48f0-960e-9e7150c0fab6"
      },
      "cell_type": "code",
      "source": [
        "energies = []\n",
        "\n",
        "for entry in range(nentries):\n",
        "\n",
        "    collision = hep.get_collision(alldata,entry_number=entry,experiment='CMS')\n",
        "\n",
        "    if entry%10000 == 0:\n",
        "        print(entry)\n",
        "    \n",
        "    # Could do this if you only want to run on some events\n",
        "    #if entry>10000:\n",
        "    #  break\n",
        "\n",
        "    jets = collision['jets']\n",
        "\n",
        "    for jet in jets:\n",
        "        e = jet['e']\n",
        "        #print(e)\n",
        "\n",
        "        energies.append(e)\n",
        "\n"
      ],
      "execution_count": 10,
      "outputs": [
        {
          "output_type": "stream",
          "text": [
            "0\n",
            "10000\n",
            "20000\n",
            "30000\n",
            "40000\n",
            "50000\n",
            "60000\n",
            "70000\n",
            "80000\n",
            "90000\n",
            "100000\n",
            "110000\n",
            "120000\n",
            "130000\n",
            "140000\n",
            "150000\n",
            "160000\n",
            "170000\n",
            "180000\n",
            "190000\n",
            "200000\n",
            "210000\n",
            "220000\n",
            "230000\n",
            "240000\n",
            "250000\n",
            "260000\n",
            "270000\n",
            "280000\n",
            "290000\n",
            "300000\n",
            "310000\n",
            "320000\n",
            "330000\n",
            "340000\n",
            "350000\n",
            "360000\n",
            "370000\n",
            "380000\n"
          ],
          "name": "stdout"
        }
      ]
    },
    {
      "metadata": {
        "id": "G1wEang0u2wV",
        "colab_type": "code",
        "colab": {
          "base_uri": "https://localhost:8080/",
          "height": 347
        },
        "outputId": "3de5ac3d-0fbb-4552-cda9-12c3b381e3e0"
      },
      "cell_type": "code",
      "source": [
        "plt.figure()\n",
        "plt.hist(energies,bins=50,range=(0,500));\n",
        "\n"
      ],
      "execution_count": 8,
      "outputs": [
        {
          "output_type": "display_data",
          "data": {
            "image/png": "[encoded data removed]",
            "text/plain": [
              "<matplotlib.figure.Figure at 0x7fb9bb947240>"
            ]
          },
          "metadata": {
            "tags": []
          }
        }
      ]
    },
    {
      "metadata": {
        "id": "dhd8z9MEvBXl",
        "colab_type": "code",
        "colab": {}
      },
      "cell_type": "code",
      "source": [
        ""
      ],
      "execution_count": 0,
      "outputs": []
    }
  ]
}
