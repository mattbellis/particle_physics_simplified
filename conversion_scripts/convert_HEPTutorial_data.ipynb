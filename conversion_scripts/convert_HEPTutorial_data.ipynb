{
 "cells": [
  {
   "cell_type": "code",
   "execution_count": null,
   "id": "d890f7b0",
   "metadata": {},
   "outputs": [],
   "source": [
    "import uproot\n",
    "import hepfile\n",
    "\n",
    "import sys\n",
    "\n",
    "infilename = \n",
    "\n",
    "infile = uproot.open(infilename)\n",
    "\n",
    "events = infile['events']\n"
   ]
  }
 ],
 "metadata": {
  "kernelspec": {
   "display_name": "Python 3 (ipykernel)",
   "language": "python",
   "name": "python3"
  },
  "language_info": {
   "codemirror_mode": {
    "name": "ipython",
    "version": 3
   },
   "file_extension": ".py",
   "mimetype": "text/x-python",
   "name": "python",
   "nbconvert_exporter": "python",
   "pygments_lexer": "ipython3",
   "version": "3.9.12"
  }
 },
 "nbformat": 4,
 "nbformat_minor": 5
}
