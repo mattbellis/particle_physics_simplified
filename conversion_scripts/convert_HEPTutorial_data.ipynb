{
 "cells": [
  {
   "cell_type": "code",
   "execution_count": 1,
   "id": "d890f7b0",
   "metadata": {},
   "outputs": [],
   "source": [
    "import uproot\n",
    "import hepfile\n",
    "import awkward as ak\n",
    "\n",
    "import sys\n",
    "\n",
    "import numpy as np\n"
   ]
  },
  {
   "cell_type": "code",
   "execution_count": 2,
   "id": "519dd331",
   "metadata": {},
   "outputs": [],
   "source": [
    "#infilename = 'files/ttbar.root'\n",
    "#infilename = 'files/wjets.root'\n",
    "#infilename = 'files/single_top.root'\n",
    "#infilename = 'files/ww.root'\n",
    "#infilename = 'files/wz.root'\n",
    "#infilename = 'files/zz.root'\n",
    "\n",
    "infilenames = ['files/data.root', 'files/dy.root', \\\n",
    "               'files/qcd.root', 'files/single_top.root', \\\n",
    "               'files/ttbar.root', 'files/wjets.root', \\\n",
    "               'files/ww.root', 'files/wz.root', 'files/zz.root']\n",
    "\n",
    "\n",
    "infilename = infilenames[-1]\n",
    "\n",
    "infile = uproot.open(infilename)\n",
    "\n",
    "events = infile['events']\n"
   ]
  },
  {
   "cell_type": "code",
   "execution_count": 3,
   "id": "2e47900a",
   "metadata": {},
   "outputs": [],
   "source": [
    "keys = events.keys()"
   ]
  },
  {
   "cell_type": "code",
   "execution_count": 4,
   "id": "ce5876bd",
   "metadata": {},
   "outputs": [
    {
     "name": "stdout",
     "output_type": "stream",
     "text": [
      "Adding group \u001b[1mJet\u001b[0m\n",
      "Adding a counter for \u001b[1mJet\u001b[0m as \u001b[1mNJet\u001b[0m\n",
      "Adding dataset \u001b[1mPx\u001b[0m to the dictionary under group \u001b[1mJet\u001b[0m.\n",
      "Adding dataset \u001b[1mPy\u001b[0m to the dictionary under group \u001b[1mJet\u001b[0m.\n",
      "Adding dataset \u001b[1mPz\u001b[0m to the dictionary under group \u001b[1mJet\u001b[0m.\n",
      "Adding dataset \u001b[1mE\u001b[0m to the dictionary under group \u001b[1mJet\u001b[0m.\n",
      "Adding dataset \u001b[1mbtag\u001b[0m to the dictionary under group \u001b[1mJet\u001b[0m.\n",
      "Adding dataset \u001b[1mID\u001b[0m to the dictionary under group \u001b[1mJet\u001b[0m.\n",
      "Adding group \u001b[1mMuon\u001b[0m\n",
      "Adding a counter for \u001b[1mMuon\u001b[0m as \u001b[1mNMuon\u001b[0m\n",
      "Adding dataset \u001b[1mPx\u001b[0m to the dictionary under group \u001b[1mMuon\u001b[0m.\n",
      "Adding dataset \u001b[1mPy\u001b[0m to the dictionary under group \u001b[1mMuon\u001b[0m.\n",
      "Adding dataset \u001b[1mPz\u001b[0m to the dictionary under group \u001b[1mMuon\u001b[0m.\n",
      "Adding dataset \u001b[1mE\u001b[0m to the dictionary under group \u001b[1mMuon\u001b[0m.\n",
      "Adding dataset \u001b[1mIso\u001b[0m to the dictionary under group \u001b[1mMuon\u001b[0m.\n",
      "Adding dataset \u001b[1mCharge\u001b[0m to the dictionary under group \u001b[1mMuon\u001b[0m.\n",
      "Adding group \u001b[1mElectron\u001b[0m\n",
      "Adding a counter for \u001b[1mElectron\u001b[0m as \u001b[1mNElectron\u001b[0m\n",
      "Adding dataset \u001b[1mPx\u001b[0m to the dictionary under group \u001b[1mElectron\u001b[0m.\n",
      "Adding dataset \u001b[1mPy\u001b[0m to the dictionary under group \u001b[1mElectron\u001b[0m.\n",
      "Adding dataset \u001b[1mPz\u001b[0m to the dictionary under group \u001b[1mElectron\u001b[0m.\n",
      "Adding dataset \u001b[1mE\u001b[0m to the dictionary under group \u001b[1mElectron\u001b[0m.\n",
      "Adding dataset \u001b[1mIso\u001b[0m to the dictionary under group \u001b[1mElectron\u001b[0m.\n",
      "Adding dataset \u001b[1mCharge\u001b[0m to the dictionary under group \u001b[1mElectron\u001b[0m.\n",
      "Adding group \u001b[1mPhoton\u001b[0m\n",
      "Adding a counter for \u001b[1mPhoton\u001b[0m as \u001b[1mNPhoton\u001b[0m\n",
      "Adding dataset \u001b[1mPx\u001b[0m to the dictionary under group \u001b[1mPhoton\u001b[0m.\n",
      "Adding dataset \u001b[1mPy\u001b[0m to the dictionary under group \u001b[1mPhoton\u001b[0m.\n",
      "Adding dataset \u001b[1mPz\u001b[0m to the dictionary under group \u001b[1mPhoton\u001b[0m.\n",
      "Adding dataset \u001b[1mE\u001b[0m to the dictionary under group \u001b[1mPhoton\u001b[0m.\n",
      "Adding dataset \u001b[1mIso\u001b[0m to the dictionary under group \u001b[1mPhoton\u001b[0m.\n",
      "Adding dataset \u001b[1mMET_px\u001b[0m to the dictionary as a SINGLETON.\n",
      "Adding dataset \u001b[1mMET_py\u001b[0m to the dictionary as a SINGLETON.\n",
      "Adding dataset \u001b[1mNPrimaryVertices\u001b[0m to the dictionary as a SINGLETON.\n",
      "Adding dataset \u001b[1mtriggerIsoMu24\u001b[0m to the dictionary as a SINGLETON.\n",
      "Adding dataset \u001b[1mEventWeight\u001b[0m to the dictionary as a SINGLETON.\n"
     ]
    }
   ],
   "source": [
    "data = hepfile.initialize()\n",
    "\n",
    "hepfile.create_group(data,'Jet', counter='NJet')\n",
    "hepfile.create_dataset(data,['Px', 'Py', 'Pz', 'E', 'btag'], group='Jet', dtype=float)\n",
    "hepfile.create_dataset(data,['ID'], group='Jet', dtype=int)\n",
    "\n",
    "hepfile.create_group(data,'Muon', counter='NMuon')\n",
    "hepfile.create_dataset(data,['Px', 'Py', 'Pz', 'E', 'Iso'], group='Muon', dtype=float)\n",
    "hepfile.create_dataset(data,['Charge'], group='Muon', dtype=int)\n",
    "\n",
    "hepfile.create_group(data,'Electron', counter='NElectron')\n",
    "hepfile.create_dataset(data,['Px', 'Py', 'Pz', 'E', 'Iso'], group='Electron', dtype=float)\n",
    "hepfile.create_dataset(data,['Charge'], group='Electron', dtype=int)\n",
    "\n",
    "hepfile.create_group(data,'Photon', counter='NPhoton')\n",
    "hepfile.create_dataset(data,['Px', 'Py', 'Pz', 'E', 'Iso'], group='Photon', dtype=float)\n",
    "\n",
    "hepfile.create_dataset(data,['MET_px', 'MET_py', 'NPrimaryVertices', 'triggerIsoMu24', 'EventWeight'], dtype=float)\n",
    "\n",
    "bucket = hepfile.create_single_bucket(data)"
   ]
  },
  {
   "cell_type": "code",
   "execution_count": null,
   "id": "81639d35",
   "metadata": {},
   "outputs": [],
   "source": []
  },
  {
   "cell_type": "code",
   "execution_count": null,
   "id": "629e0c03",
   "metadata": {
    "scrolled": false
   },
   "outputs": [],
   "source": [
    "'''\n",
    "nevents = len(events['NJet'].array())\n",
    "\n",
    "print(nevents)\n",
    "\n",
    "njet = events['NJet'].array()\n",
    "jetpx = events['Jet_Px'].array()\n",
    "jetpy = events['Jet_Py'].array()\n",
    "jetpz = events['Jet_Pz'].array()\n",
    "jete = events['Jet_E'].array()\n",
    "jetbtag = events['Jet_btag'].array()\n",
    "jetid = events['Jet_ID'].array()\n",
    "\n",
    "nmuon = events['NMuon'].array()\n",
    "muonpx = events['Muon_Px'].array()\n",
    "muonpy = events['Muon_Py'].array()\n",
    "muonpz = events['Muon_Pz'].array()\n",
    "muone = events['Muon_E'].array()\n",
    "muoncharge = events['Muon_Charge'].array()\n",
    "muoniso = events['Muon_Iso'].array()\n",
    "\n",
    "nelectron = events['NElectron'].array()\n",
    "electronpx = events['Electron_Px'].array()\n",
    "electronpy = events['Electron_Py'].array()\n",
    "electronpz = events['Electron_Pz'].array()\n",
    "electrone = events['Electron_E'].array()\n",
    "electroncharge = events['Electron_Charge'].array()\n",
    "electroniso = events['Electron_Iso'].array()\n",
    "\n",
    "nphoton = events['NPhoton'].array()\n",
    "photonpx = events['Photon_Px'].array()\n",
    "photonpy = events['Photon_Py'].array()\n",
    "photonpz = events['Photon_Pz'].array()\n",
    "photone = events['Photon_E'].array()\n",
    "photoniso = events['Photon_Iso'].array()\n",
    "\n",
    "metpx = events['MET_px'].array()\n",
    "metpy = events['MET_py'].array()\n",
    "npv = events['NPrimaryVertices'].array()\n",
    "trigger = events['triggerIsoMu24'].array()\n",
    "evtweight = events['EventWeight'].array()\n",
    "\n",
    "\n",
    "for i in range(nevents):\n",
    "    if i%1000==0:\n",
    "        print(i)\n",
    "    N = njet[i]\n",
    "    bucket['Jet/NJet'] = N\n",
    "    for j in range(N):\n",
    "        bucket['Jet/Px'].append(jetpx[i][j])\n",
    "        bucket['Jet/Py'].append(jetpy[i][j])\n",
    "        bucket['Jet/Pz'].append(jetpz[i][j])\n",
    "        bucket['Jet/E'].append(jete[i][j])\n",
    "        bucket['Jet/btag'].append(jetbtag[i][j])\n",
    "        bucket['Jet/ID'].append(jetid[i][j])\n",
    "\n",
    "    N = events['NMuon'].array()[i]\n",
    "    bucket['Muon/NMuon'] = N\n",
    "    for j in range(N):\n",
    "        bucket['Muon/Px'].append(muonpx[i][j])\n",
    "        bucket['Muon/Py'].append(muonpy[i][j])\n",
    "        bucket['Muon/Pz'].append(muonpz[i][j])\n",
    "        bucket['Muon/E'].append(muone[i][j])\n",
    "        bucket['Muon/Charge'].append(muoncharge[i][j])\n",
    "        bucket['Muon/Iso'].append(muoniso[i][j])\n",
    "\n",
    "    N = events['NElectron'].array()[i]\n",
    "    bucket['Electron/NElectron'] = N\n",
    "    for j in range(N):\n",
    "        bucket['Electron/Px'].append(electronpx[i][j])\n",
    "        bucket['Electron/Py'].append(electronpy[i][j])\n",
    "        bucket['Electron/Pz'].append(electronpz[i][j])\n",
    "        bucket['Electron/E'].append(electrone[i][j])\n",
    "        bucket['Electron/Charge'].append(electroncharge[i][j])\n",
    "        bucket['Electron/Iso'].append(electroniso[i][j])\n",
    "        \n",
    "    bucket['MET_px'] = metpx[i]\n",
    "    bucket['MET_py'] = metpy[i]\n",
    "    bucket['NPrimaryVertices'] = npv[i]\n",
    "    bucket['triggerIsoMu24'] = trigger[i]\n",
    "    bucket['EventWeight'] = evtweight[i]\n",
    "\n",
    "        \n",
    "    hepfile.pack(data,bucket)\n",
    "'''"
   ]
  },
  {
   "cell_type": "code",
   "execution_count": null,
   "id": "70186226",
   "metadata": {},
   "outputs": [],
   "source": [
    "'''\n",
    "for key in keys:\n",
    "    print(key)\n",
    "    events[key]\n",
    "'''"
   ]
  },
  {
   "cell_type": "code",
   "execution_count": null,
   "id": "4b4de6bc",
   "metadata": {},
   "outputs": [],
   "source": [
    "events['MChadronicBottom_px'].array()"
   ]
  },
  {
   "cell_type": "code",
   "execution_count": null,
   "id": "fccda804",
   "metadata": {},
   "outputs": [],
   "source": [
    "#? hepfile.write_to_file"
   ]
  },
  {
   "cell_type": "code",
   "execution_count": null,
   "id": "6ac01f39",
   "metadata": {},
   "outputs": [],
   "source": [
    "outfilename = infilename.split('.root')[0] + '.h5'\n",
    "print(f\"Writing to {outfilename}\")\n",
    "hepfile.write_to_file(outfilename, data, comp_type='gzip', comp_opts=9)"
   ]
  },
  {
   "cell_type": "code",
   "execution_count": null,
   "id": "deb62394",
   "metadata": {},
   "outputs": [],
   "source": [
    "data.keys()"
   ]
  },
  {
   "cell_type": "code",
   "execution_count": null,
   "id": "48a5d4bc",
   "metadata": {},
   "outputs": [],
   "source": [
    "data['MET_px'] = events['MET_px'].array()\n",
    "data['MET_py'] = events['MET_py'].array()"
   ]
  },
  {
   "cell_type": "code",
   "execution_count": null,
   "id": "2e65c76c",
   "metadata": {},
   "outputs": [],
   "source": [
    "data['_SINGLETONS_GROUP_/COUNTER'] = np.ones(len(events['MET_px'].array()),dtype=int)"
   ]
  },
  {
   "cell_type": "code",
   "execution_count": null,
   "id": "d6b48265",
   "metadata": {},
   "outputs": [],
   "source": [
    "data['_GROUPS_']"
   ]
  },
  {
   "cell_type": "code",
   "execution_count": null,
   "id": "9e93ce41",
   "metadata": {},
   "outputs": [],
   "source": [
    "def pack_awkward_arrays(data,events):\n",
    "    for key in data['_GROUPS_'].keys():\n",
    "        #print(key)\n",
    "\n",
    "        for dataset in data['_GROUPS_'][key]:\n",
    "            #print(\"\\t\" + dataset)\n",
    "            if dataset=='COUNTER':\n",
    "                continue\n",
    "\n",
    "            if key == '_SINGLETONS_GROUP_':\n",
    "                x = events[dataset].array().to_numpy()\n",
    "                if x == 'triggerIsoMu24':\n",
    "                    x = x.astype(int)\n",
    "                #print(key,dataset,type(x), type(x[0]))\n",
    "                data[dataset] = x\n",
    "                data['_SINGLETONS_GROUP_/COUNTER'] = np.ones(len(x),dtype=int)\n",
    "            elif dataset[0] == 'N':\n",
    "                newkey = f\"{key}/{dataset}\"\n",
    "                data[key] = events[dataset].array().to_numpy()            \n",
    "            else:\n",
    "                newkey = f\"{key}_{dataset}\"\n",
    "                hepfile_newkey = f\"{key}/{dataset}\"\n",
    "                #print(newkey,hepfile_newkey)\n",
    "                data[hepfile_newkey] = ak.flatten(events[newkey].array()).to_numpy()\n",
    "\n",
    "                counter_key = data['_MAP_DATASETS_TO_COUNTERS_'][hepfile_newkey]\n",
    "                N = ak.num(events[newkey].array()).to_numpy()\n",
    "                #print(len(N))\n",
    "                data[counter_key] = N \n"
   ]
  },
  {
   "cell_type": "code",
   "execution_count": null,
   "id": "0ec6f0ce",
   "metadata": {},
   "outputs": [],
   "source": [
    "infilenames = ['files/data.root', 'files/dy.root', \\\n",
    "               'files/qcd.root', 'files/single_top.root', \\\n",
    "               'files/ttbar.root', 'files/wjets.root', \\\n",
    "               'files/ww.root', 'files/wz.root', 'files/zz.root']\n",
    "\n",
    "\n",
    "for infilename in infilenames:\n",
    "\n",
    "    infile = uproot.open(infilename)\n",
    "\n",
    "    events = infile['events']\n",
    "    \n",
    "    data = hepfile.initialize()\n",
    "\n",
    "    hepfile.create_group(data,'Jet', counter='NJet')\n",
    "    hepfile.create_dataset(data,['Px', 'Py', 'Pz', 'E', 'btag'], group='Jet', dtype=float)\n",
    "    hepfile.create_dataset(data,['ID'], group='Jet', dtype=int)\n",
    "\n",
    "    hepfile.create_group(data,'Muon', counter='NMuon')\n",
    "    hepfile.create_dataset(data,['Px', 'Py', 'Pz', 'E', 'Iso'], group='Muon', dtype=float)\n",
    "    hepfile.create_dataset(data,['Charge'], group='Muon', dtype=int)\n",
    "\n",
    "    hepfile.create_group(data,'Electron', counter='NElectron')\n",
    "    hepfile.create_dataset(data,['Px', 'Py', 'Pz', 'E', 'Iso'], group='Electron', dtype=float)\n",
    "    hepfile.create_dataset(data,['Charge'], group='Electron', dtype=int)\n",
    "\n",
    "    hepfile.create_group(data,'Photon', counter='NPhoton')\n",
    "    hepfile.create_dataset(data,['Px', 'Py', 'Pz', 'E', 'Iso'], group='Photon', dtype=float)\n",
    "\n",
    "    hepfile.create_dataset(data,['MET_px', 'MET_py', 'NPrimaryVertices', 'triggerIsoMu24', 'EventWeight'], dtype=float)\n",
    "\n",
    "    bucket = hepfile.create_single_bucket(data)\n",
    "    \n",
    "    pack_awkward_arrays(data,events)\n",
    "    \n",
    "    outfilename = infilename.split('.root')[0] + '.h5'\n",
    "    print(f\"Writing to {outfilename}\")\n",
    "    hepfile.write_to_file(outfilename, data, comp_type='gzip', comp_opts=9, verbose=False)\n",
    "    \n"
   ]
  },
  {
   "cell_type": "code",
   "execution_count": null,
   "id": "e0ed7605",
   "metadata": {},
   "outputs": [],
   "source": [
    "data['_LIST_OF_COUNTERS_']"
   ]
  },
  {
   "cell_type": "code",
   "execution_count": null,
   "id": "43209929",
   "metadata": {},
   "outputs": [],
   "source": [
    "outfilename = infilename.split('.root')[0] + '.h5'\n",
    "print(f\"Writing to {outfilename}\")\n",
    "hepfile.write_to_file(outfilename, data, comp_type='gzip', comp_opts=9, verbose=True)"
   ]
  },
  {
   "cell_type": "code",
   "execution_count": null,
   "id": "67e66362",
   "metadata": {},
   "outputs": [],
   "source": [
    "data['_MAP_DATASETS_TO_COUNTERS_']"
   ]
  },
  {
   "cell_type": "code",
   "execution_count": null,
   "id": "617d9ef2",
   "metadata": {},
   "outputs": [],
   "source": [
    "x = events['MET_px'].array()"
   ]
  },
  {
   "cell_type": "code",
   "execution_count": null,
   "id": "01c8d786",
   "metadata": {},
   "outputs": [],
   "source": [
    "x.to_numpy()"
   ]
  },
  {
   "cell_type": "code",
   "execution_count": null,
   "id": "0e861c7a",
   "metadata": {},
   "outputs": [],
   "source": [
    "x = ak.flatten(events['Jet_Px'].array())"
   ]
  },
  {
   "cell_type": "code",
   "execution_count": null,
   "id": "27da4a37",
   "metadata": {},
   "outputs": [],
   "source": [
    "x.to_numpy()"
   ]
  },
  {
   "cell_type": "code",
   "execution_count": null,
   "id": "9ca5dad5",
   "metadata": {},
   "outputs": [],
   "source": [
    "ak.num(events['Muon_Px'].array())"
   ]
  },
  {
   "cell_type": "code",
   "execution_count": 14,
   "id": "adb66a9f",
   "metadata": {},
   "outputs": [],
   "source": [
    "f = uproot.open('files/ttbar.root')"
   ]
  },
  {
   "cell_type": "code",
   "execution_count": 15,
   "id": "d66b7de5",
   "metadata": {},
   "outputs": [],
   "source": [
    "x = f['events']"
   ]
  },
  {
   "cell_type": "code",
   "execution_count": 16,
   "id": "61de7581",
   "metadata": {},
   "outputs": [
    {
     "data": {
      "text/plain": [
       "<TTree 'events' (51 branches) at 0x7fa4ec1c91f0>"
      ]
     },
     "execution_count": 16,
     "metadata": {},
     "output_type": "execute_result"
    }
   ],
   "source": [
    "x"
   ]
  },
  {
   "cell_type": "code",
   "execution_count": 17,
   "id": "b3044e27",
   "metadata": {},
   "outputs": [
    {
     "data": {
      "text/plain": [
       "<Array [False, False, False, ... False, False] type='36941 * bool'>"
      ]
     },
     "execution_count": 17,
     "metadata": {},
     "output_type": "execute_result"
    }
   ],
   "source": [
    "x['triggerIsoMu24'].array()"
   ]
  },
  {
   "cell_type": "code",
   "execution_count": null,
   "id": "4f98a61a",
   "metadata": {},
   "outputs": [],
   "source": []
  }
 ],
 "metadata": {
  "kernelspec": {
   "display_name": "Python 3 (ipykernel)",
   "language": "python",
   "name": "python3"
  },
  "language_info": {
   "codemirror_mode": {
    "name": "ipython",
    "version": 3
   },
   "file_extension": ".py",
   "mimetype": "text/x-python",
   "name": "python",
   "nbconvert_exporter": "python",
   "pygments_lexer": "ipython3",
   "version": "3.9.12"
  }
 },
 "nbformat": 4,
 "nbformat_minor": 5
}
