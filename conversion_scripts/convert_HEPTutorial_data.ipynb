{
 "cells": [
  {
   "cell_type": "code",
   "execution_count": null,
   "id": "d890f7b0",
   "metadata": {},
   "outputs": [],
   "source": [
    "import uproot\n",
    "import hepfile\n",
    "\n",
    "import sys\n",
    "\n"
   ]
  },
  {
   "cell_type": "code",
   "execution_count": null,
   "id": "519dd331",
   "metadata": {},
   "outputs": [],
   "source": [
    "infilename = 'files/ttbar.root'\n",
    "\n",
    "infile = uproot.open(infilename)\n",
    "\n",
    "events = infile['events']\n"
   ]
  },
  {
   "cell_type": "code",
   "execution_count": null,
   "id": "2e47900a",
   "metadata": {},
   "outputs": [],
   "source": [
    "keys = events.keys()"
   ]
  },
  {
   "cell_type": "code",
   "execution_count": null,
   "id": "ce5876bd",
   "metadata": {},
   "outputs": [],
   "source": [
    "data = hepfile.initialize()\n",
    "\n",
    "hepfile.create_group(data,'Jet', counter='NJet')\n",
    "hepfile.create_dataset(data,['Px', 'Py', 'Pz', 'E', 'btag'], group='Jet', dtype=float)\n",
    "hepfile.create_dataset(data,['ID'], group='Jet', dtype=int)\n",
    "\n",
    "#hepfile.create_group(data,'Muon', counter='NMuon')\n",
    "#hepfile.create_dataset(data,['Px', 'Py', 'Pz', 'E', 'btag'], group='Muon', dtype=float)\n",
    "#hepfile.create_dataset(data,['Charge', 'Iso'], group='Muon', dtype=int)\n",
    "\n",
    "bucket = hepfile.create_single_bucket(data)"
   ]
  },
  {
   "cell_type": "code",
   "execution_count": null,
   "id": "81639d35",
   "metadata": {},
   "outputs": [],
   "source": []
  },
  {
   "cell_type": "code",
   "execution_count": null,
   "id": "629e0c03",
   "metadata": {},
   "outputs": [],
   "source": [
    "nevents = len(events['NJet'].array())\n",
    "\n",
    "print(nevents)\n",
    "\n",
    "njet = events['NJet'].array()\n",
    "jetpx = events['Jet_Px'].array()\n",
    "jetpy = events['Jet_Py'].array()\n",
    "jetpz = events['Jet_Pz'].array()\n",
    "jete = events['Jet_E'].array()\n",
    "jetbtag = events['Jet_btag'].array()\n",
    "jetid = events['Jet_ID'].array()\n",
    "\n",
    "for i in range(nevents):\n",
    "    if i%1000==0:\n",
    "        print(i)\n",
    "    N = njet[i]\n",
    "    hep_event['Jet/NJet'] = N\n",
    "    for j in range(N):\n",
    "        bucket['Jet/Px'].append(jetpx[i][j])\n",
    "        bucket['Jet/Py'].append(jetpy[i][j])\n",
    "        bucket['Jet/Pz'].append(jetpz[i][j])\n",
    "        bucket['Jet/E'].append(jete[i][j])\n",
    "        bucket['Jet/btag'].append(jetbtag[i][j])\n",
    "        bucket['Jet/ID'].append(jetid[i][j])\n",
    "    '''\n",
    "    N = events['NMuon'].array()[i]\n",
    "    hep_event['Muon/NMuon'] = N\n",
    "    for j in range(N):\n",
    "        bucket['Muon/Px'].append(events['Muon_Px'].array()[i][j])\n",
    "        bucket['Muon/Py'].append(events['Muon_Py'].array()[i][j])\n",
    "        bucket['Muon/Pz'].append(events['Muon_Pz'].array()[i][j])\n",
    "        bucket['Muon/E'].append(events['Muon_E'].array()[i][j])\n",
    "        bucket['Muon/Charge'].append(events['Muon_Charge'].array()[i][j])\n",
    "        bucket['Muon/Iso'].append(events['Muon_Iso'].array()[i][j])\n",
    "    '''\n",
    "\n",
    "    hepfile.pack(data,bucket)"
   ]
  },
  {
   "cell_type": "code",
   "execution_count": null,
   "id": "70186226",
   "metadata": {},
   "outputs": [],
   "source": [
    "for key in keys:\n",
    "    print(key)\n",
    "    events[key]"
   ]
  },
  {
   "cell_type": "code",
   "execution_count": null,
   "id": "4b4de6bc",
   "metadata": {},
   "outputs": [],
   "source": []
  }
 ],
 "metadata": {
  "kernelspec": {
   "display_name": "Python 3 (ipykernel)",
   "language": "python",
   "name": "python3"
  },
  "language_info": {
   "codemirror_mode": {
    "name": "ipython",
    "version": 3
   },
   "file_extension": ".py",
   "mimetype": "text/x-python",
   "name": "python",
   "nbconvert_exporter": "python",
   "pygments_lexer": "ipython3",
   "version": "3.9.12"
  }
 },
 "nbformat": 4,
 "nbformat_minor": 5
}
